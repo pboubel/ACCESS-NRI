{
 "cells": [
  {
   "cell_type": "code",
   "execution_count": 1,
   "id": "43e59700",
   "metadata": {},
   "outputs": [],
   "source": [
    "# lets import xarray and numpy\n",
    "import xarray as xr\n",
    "import numpy as np\n",
    "import datetime\n",
    "import matplotlib.pyplot as plt\n",
    "%matplotlib inline"
   ]
  },
  {
   "cell_type": "code",
   "execution_count": 3,
   "id": "cd2e47dd-0a48-4a3e-95a9-652af9b57975",
   "metadata": {},
   "outputs": [],
   "source": [
    "import cartopy.crs as ccrs\n",
    "import cartopy.feature as feature"
   ]
  },
  {
   "cell_type": "markdown",
   "id": "16be3ee3-f175-46bd-83cf-f4ab4edf12fc",
   "metadata": {},
   "source": [
    "## Load the model output"
   ]
  },
  {
   "cell_type": "code",
   "execution_count": 231,
   "id": "cb56f9a7",
   "metadata": {},
   "outputs": [],
   "source": [
    "ism = {}\n",
    "# NorESM1-M RCP8.5\n",
    "ism['issm_exp05'] = xr.open_mfdataset(\"JPL1_ISSM/exp05/*.nc\")\n",
    "ism['cism_exp05'] = xr.open_mfdataset(\"NCAR_CISM/exp05/*.nc\")\n",
    "\n",
    "# NorESM1-M RCP2.6\n",
    "ism['issm_exp07'] = xr.open_mfdataset(\"JPL1_ISSM/exp07/*.nc\")\n",
    "ism['cism_exp07'] = xr.open_mfdataset(\"NCAR_CISM/exp07/*.nc\")\n",
    "\n",
    "# Control\n",
    "ism['issm_ctrl'] = xr.open_mfdataset(\"JPL1_ISSM/ctrl_proj/*.nc\")\n",
    "ism['cism_ctrl'] = xr.open_mfdataset(\"NCAR_CISM/ctrl_proj/*.nc\")\n",
    "\n",
    "# Not all data arrays have x,y coordinates, so we need to set a consistent coordinate system\n",
    "# We'll use a grid with spacings of 1 km by 1 km, centered at (0,0)\n",
    "GRID_EXTENT = 3040 # km\n",
    "\n",
    "for exp in ism.keys():\n",
    "    print(exp)\n",
    "    grid_resolution_x = 2 * GRID_EXTENT / (len(ism[exp].x) - 1) # km\n",
    "    grid_resolution_y = 2 * GRID_EXTENT / (len(ism[exp].y) - 1) # km\n",
    "    x_km, y_km = (ism[exp].x * grid_resolution_x , ism[exp].y * grid_resolution_y) \n",
    "    x_km -= grid_extent\n",
    "    y_km -= grid_extent\n",
    "    gridspace_area = grid_resolution_x*grid_resolution_y # km^2\n",
    "    coords = {\"x\":x_km , \"y\":y_km }\n",
    "    ## TODO: use WGS84\n",
    "    #ism[exp] = ism[exp].rename({'ny':'y'})\n",
    "    ism[exp] = ism[exp].assign_coords(coords)"
   ]
  },
  {
   "cell_type": "markdown",
   "id": "2e43c5b0-ce13-4d55-8036-53477c3510c5",
   "metadata": {},
   "source": [
    "## Functions for computing ice mass and sea level rise"
   ]
  },
  {
   "cell_type": "code",
   "execution_count": 235,
   "id": "af3d4878-6bf5-4486-8599-bafabb1d5ea8",
   "metadata": {},
   "outputs": [
    {
     "name": "stdout",
     "output_type": "stream",
     "text": [
      "(<xarray.DataArray 'lithk' ()>\n",
      "array(2.37682009)\n",
      "Coordinates:\n",
      "    time     float32 2.92e+03, <xarray.DataArray ()>\n",
      "array(1.3592768)\n",
      "Coordinates:\n",
      "    time     float32 2.92e+03)\n",
      "(<xarray.DataArray 'lithk' ()>\n",
      "array(0.05641812)\n",
      "Coordinates:\n",
      "    time     float32 2.92e+03, <xarray.DataArray ()>\n",
      "array(0.1415296)\n",
      "Coordinates:\n",
      "    time     float32 2.92e+03)\n"
     ]
    }
   ],
   "source": [
    "# Constants\n",
    "ICE_DENSITY = 0.917 # in Gt / km ^3\n",
    "WATER_DENSITY = 1.027  # Gt / km ^3\n",
    "OCEAN_SURFACE_AREA = 361.8 * 10**6  # km²\n",
    "\n",
    "def sea_level_rise(total_ice_mass_gt):\n",
    "\n",
    "    # Convert total ice mass to water equivalent volume (in km³)\n",
    "    water_volume_km3 = total_ice_mass_gt * (ICE_DENSITY / WATER_DENSITY)\n",
    "\n",
    "    # Calculate the sea level rise in mm\n",
    "    sea_level_rise_mm = (water_volume_km3 / OCEAN_SURFACE_AREA) * 10**6  # mm\n",
    "\n",
    "    return sea_level_rise_mm\n",
    "\n",
    "def get_ice_mass_area(lithk, fraction=None):\n",
    "    \n",
    "    thickness =  lithk * 1e-3 # convert to km units\n",
    "    \n",
    "    ones_array = xr.DataArray(np.ones_like(thickness), coords=thickness.coords, dims=thickness.dims)\n",
    "    masked_ones = ones_array.where(~np.isnan(thickness))\n",
    "    \n",
    "    # Mask the DataArray to replace NaNs with 0\n",
    "    masked_data = thickness.where(~np.isnan(thickness), other=0)\n",
    "    if fraction is not None:\n",
    "        fraction = fraction.where(~np.isnan(fraction), other=0)\n",
    "        masked_data *= fraction\n",
    "        masked_ones *= fraction\n",
    "    \n",
    "    # Integrate over the x and y coordinates\n",
    "    dx = np.gradient(thickness.coords['x']) # in km \n",
    "    dy = np.gradient(thickness.coords['y']) # in km \n",
    "    \n",
    "    # Create an area array if the grid spacing varies\n",
    "    integrated_area = (masked_ones * dx[:, np.newaxis] * dy).sum(dim=['x', 'y'])\n",
    "    integrated_area = integrated_area.compute()/1e7 # in 1e7 km ^2\n",
    "    \n",
    "    volume = (masked_data * dx[:, np.newaxis] * dy).sum(dim=['x', 'y'])\n",
    "    volume = volume.compute() # in km ^3\n",
    "    \n",
    "    ice_mass = volume*ICE_DENSITY/1e7 # convert to in Gt 1e7 units\n",
    "    \n",
    "    return ice_mass, integrated_area\n",
    "    \n",
    "total_ice = get_ice_mass_area(ism['issm_ctrl'].lithk.isel(time=0))\n",
    "print(total_ice)\n",
    "\n",
    "floating_ice = get_ice_mass_area(ism['issm_ctrl'].lithk.isel(time=0),fraction=ism['issm_ctrl'].sftflf.isel(time=0))\n",
    "print(floating_ice)\n",
    "# NOTE: \n",
    "# lithk = orog - base\n",
    "# ice thickness = surface altitude - base altitude"
   ]
  },
  {
   "cell_type": "code",
   "execution_count": 236,
   "id": "e2112a03-447d-4848-9384-8e235af482be",
   "metadata": {},
   "outputs": [],
   "source": [
    "total_ice_ctrl, total_area_ctrl = get_ice_mass_area(ism['issm_ctrl'].lithk)\n",
    "total_ice_exp05, total_area_exp05 = get_ice_mass_area(ism['issm_exp05'].lithk)\n",
    "\n",
    "total_ice_ctrl_cism, total_area_ctrl_cism = get_ice_mass_area(ism['cism_ctrl'].lithk)\n",
    "total_ice_exp05_cism, total_area_exp05_cism = get_ice_mass_area(ism['cism_exp05'].lithk)"
   ]
  },
  {
   "cell_type": "code",
   "execution_count": 291,
   "id": "9e7efe05-6d24-4579-97c7-4c84c8e0f72c",
   "metadata": {},
   "outputs": [],
   "source": [
    "days_exp = ism['issm_ctrl'].time.max() - ism['issm_ctrl'].time.min()\n",
    "days_exp = ism['issm_ctrl'].time - ism['issm_ctrl'].time.min()  \n",
    "start_date = ism['issm_exp05'].time.min().item()\n",
    "dates = [start_date + datetime.timedelta(days=int(num_days)) for num_days in days_exp]\n",
    "years = [date.year for date in dates]"
   ]
  },
  {
   "cell_type": "code",
   "execution_count": 242,
   "id": "23e508e2-ad5b-4b78-9a9f-38babb8cd49b",
   "metadata": {},
   "outputs": [],
   "source": [
    "relative_total_ice = total_ice_exp05.values - total_ice_ctrl.values\n",
    "relative_total_ice_cism = total_ice_exp05_cism.values - total_ice_ctrl_cism.values"
   ]
  },
  {
   "cell_type": "markdown",
   "id": "1cf80f90-36de-4938-be4e-397a3904eea0",
   "metadata": {},
   "source": [
    "## Reproducing Figure 4"
   ]
  },
  {
   "cell_type": "code",
   "execution_count": 310,
   "id": "ac63d07a-d682-412f-b8b6-4d9ab7ce64ee",
   "metadata": {},
   "outputs": [
    {
     "data": {
      "text/plain": [
       "(array([-5.0e-06,  0.0e+00,  5.0e-06,  1.0e-05,  1.5e-05,  2.0e-05,\n",
       "         2.5e-05,  3.0e-05]),\n",
       " [Text(0, 0, ''),\n",
       "  Text(0, 0, ''),\n",
       "  Text(0, 0, ''),\n",
       "  Text(0, 0, ''),\n",
       "  Text(0, 0, ''),\n",
       "  Text(0, 0, ''),\n",
       "  Text(0, 0, ''),\n",
       "  Text(0, 0, '')])"
      ]
     },
     "execution_count": 310,
     "metadata": {},
     "output_type": "execute_result"
    },
    {
     "data": {
      "image/png": "[encoded data removed]",
      "text/plain": [
       "<Figure size 864x432 with 1 Axes>"
      ]
     },
     "metadata": {
      "needs_background": "light"
     },
     "output_type": "display_data"
    }
   ],
   "source": [
    "# Fig 4 of https://tc.copernicus.org/articles/14/3033/2020/#App1.Ch1.S2.T7\n",
    "plt.figure(figsize=(12,6))\n",
    "\n",
    "SLEmm_issm = sea_level_rise(-relative_total_ice)\n",
    "SLEmm_cism = sea_level_rise(-relative_total_ice_cism)\n",
    "plt.plot(years, SLEmm_issm, color='darkgreen', label='JPL1_ISSM_std')\n",
    "plt.plot(years, SLEmm_cism[1:],color='orange',label='NCAR_CISM_std')\n",
    "plt.legend(fontsize=15,bbox_to_anchor=(1.05, 1.05),frameon=False)\n",
    "plt.ylabel(r'Sea level contribution (mm SLE)',fontsize=15)\n",
    "plt.xlabel('Time',fontsize=15)\n",
    "#plt.ylim(-0.1e-4,1e-4)\n",
    "plt.xlim(2015,2100)\n",
    "plt.xticks(fontsize=15)\n",
    "plt.yticks(fontsize=15)"
   ]
  },
  {
   "cell_type": "code",
   "execution_count": null,
   "id": "ca7ccb30-0e9e-463f-b6b7-93dc3e9ce4eb",
   "metadata": {},
   "outputs": [],
   "source": []
  }
 ],
 "metadata": {
  "kernelspec": {
   "display_name": "Python 3 (ipykernel)",
   "language": "python",
   "name": "python3"
  },
  "language_info": {
   "codemirror_mode": {
    "name": "ipython",
    "version": 3
   },
   "file_extension": ".py",
   "mimetype": "text/x-python",
   "name": "python",
   "nbconvert_exporter": "python",
   "pygments_lexer": "ipython3",
   "version": "3.9.19"
  }
 },
 "nbformat": 4,
 "nbformat_minor": 5
}
